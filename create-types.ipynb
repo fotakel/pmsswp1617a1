{
 "cells": [
  {
   "cell_type": "code",
   "execution_count": 26,
   "metadata": {
    "collapsed": false
   },
   "outputs": [
    {
     "name": "stdout",
     "output_type": "stream",
     "text": [
      "[['_:0', 'http://dilab77.ionio.gr/swp/fotakel/vocab#EXAMINO', 'http://dilab77.ionio.gr/swp/fotakel/resource/b'], ['_:0', 'http://dilab77.ionio.gr/swp/fotakel/vocab#ORA%20ENARXIS', '#:3'], ['_:0', 'http://dilab77.ionio.gr/swp/fotakel/vocab#ORA%20LIXIS', '#:6'], ['_:0', 'http://dilab77.ionio.gr/swp/fotakel/vocab#MERA', '#:Triti'], ['_:1', 'http://dilab77.ionio.gr/swp/fotakel/vocab#KATHIGITIS', 'http://dilab77.ionio.gr/swp/fotakel/resource/Mylonas'], ['_:1', 'http://dilab77.ionio.gr/swp/fotakel/vocab#MATHIMA', 'http://dilab77.ionio.gr/swp/fotakel/resource/Eksorixi'], ['_:1', 'http://dilab77.ionio.gr/swp/fotakel/vocab#AITHOUSA', 'http://dilab77.ionio.gr/swp/fotakel/resource/pms'], ['_:1', 'http://dilab77.ionio.gr/swp/fotakel/vocab#EXAMINO', 'http://dilab77.ionio.gr/swp/fotakel/resource/b'], ['_:1', 'http://dilab77.ionio.gr/swp/fotakel/vocab#ORA%20ENARXIS', '#:3'], ['_:1', 'http://dilab77.ionio.gr/swp/fotakel/vocab#ORA%20LIXIS', '#:6'], ['_:1', 'http://dilab77.ionio.gr/swp/fotakel/vocab#MERA', '#:Pempti'], ['_:2', 'http://dilab77.ionio.gr/swp/fotakel/vocab#KATHIGITIS', 'http://dilab77.ionio.gr/swp/fotakel/resource/Pateli'], ['_:2', 'http://dilab77.ionio.gr/swp/fotakel/vocab#MATHIMA', 'http://dilab77.ionio.gr/swp/fotakel/resource/epeixirimatikotita'], ['_:2', 'http://dilab77.ionio.gr/swp/fotakel/vocab#AITHOUSA', 'http://dilab77.ionio.gr/swp/fotakel/resource/pms'], ['_:2', 'http://dilab77.ionio.gr/swp/fotakel/vocab#EXAMINO', 'http://dilab77.ionio.gr/swp/fotakel/resource/b'], ['_:2', 'http://dilab77.ionio.gr/swp/fotakel/vocab#ORA%20ENARXIS', '#:3'], ['_:2', 'http://dilab77.ionio.gr/swp/fotakel/vocab#ORA%20LIXIS', '#:6'], ['_:2', 'http://dilab77.ionio.gr/swp/fotakel/vocab#MERA', '#:Tetarti'], ['_:3', 'http://dilab77.ionio.gr/swp/fotakel/vocab#KATHIGITIS', 'http://dilab77.ionio.gr/swp/fotakel/resource/Avlonitis'], ['_:3', 'http://dilab77.ionio.gr/swp/fotakel/vocab#MATHIMA', 'http://dilab77.ionio.gr/swp/fotakel/resource/prosomoiosi'], ['_:3', 'http://dilab77.ionio.gr/swp/fotakel/vocab#AITHOUSA', 'http://dilab77.ionio.gr/swp/fotakel/resource/pms'], ['_:3', 'http://dilab77.ionio.gr/swp/fotakel/vocab#EXAMINO', 'http://dilab77.ionio.gr/swp/fotakel/resource/b'], ['_:3', 'http://dilab77.ionio.gr/swp/fotakel/vocab#ORA%20ENARXIS', '#:6'], ['_:3', 'http://dilab77.ionio.gr/swp/fotakel/vocab#ORA%20LIXIS', '#:9'], ['_:3', 'http://dilab77.ionio.gr/swp/fotakel/vocab#MERA', '#:Triti'], ['_:4', 'http://dilab77.ionio.gr/swp/fotakel/vocab#KATHIGITIS', 'http://dilab77.ionio.gr/swp/fotakel/resource/Vlamos'], ['_:4', 'http://dilab77.ionio.gr/swp/fotakel/vocab#MATHIMA', 'http://dilab77.ionio.gr/swp/fotakel/resource/pliroforiki%20ekpaideysi'], ['_:4', 'http://dilab77.ionio.gr/swp/fotakel/vocab#AITHOUSA', 'http://dilab77.ionio.gr/swp/fotakel/resource/pms'], ['_:4', 'http://dilab77.ionio.gr/swp/fotakel/vocab#EXAMINO', 'http://dilab77.ionio.gr/swp/fotakel/resource/b'], ['_:4', 'http://dilab77.ionio.gr/swp/fotakel/vocab#ORA%20ENARXIS', '#:6'], ['_:4', 'http://dilab77.ionio.gr/swp/fotakel/vocab#ORA%20LIXIS', '#:9'], ['_:4', 'http://dilab77.ionio.gr/swp/fotakel/vocab#MERA', '#:Pempti']]\n"
     ]
    }
   ],
   "source": [
    "import csv\n",
    "\n",
    "triada=[]\n",
    "with open ('arxeio-eisodou.csv', 'r',newline='')as ifp:\n",
    "    reader=csv.reader(ifp)\n",
    "    headers=next(reader)\n",
    "    for row in reader:\n",
    "        triada.append(row)\n",
    "        \n",
    "print(triada)\n"
   ]
  },
  {
   "cell_type": "code",
   "execution_count": 27,
   "metadata": {
    "collapsed": false
   },
   "outputs": [
    {
     "name": "stdout",
     "output_type": "stream",
     "text": [
      "[['_:0', '<http://dilab77.ionio.gr/swp/fotakel/vocab#EXAMINO>', '\"b\"'], ['_:0', '<http://dilab77.ionio.gr/swp/fotakel/vocab#ORA%20ENARXIS>', '\"03:00:00\"^^<http://www.w3.org/2001/XMLSchema#time>'], ['_:0', '<http://dilab77.ionio.gr/swp/fotakel/vocab#ORA%20LIXIS>', '\"06:00:00\"^^<http://www.w3.org/2001/XMLSchema#time>'], ['_:0', '<http://dilab77.ionio.gr/swp/fotakel/vocab#MERA>', '\"Triti\"'], ['_:1', '<http://dilab77.ionio.gr/swp/fotakel/vocab#KATHIGITIS>', '<http://dilab77.ionio.gr/swp/fotakel/resource/Mylonas>'], ['_:1', '<http://dilab77.ionio.gr/swp/fotakel/vocab#MATHIMA>', '<http://dilab77.ionio.gr/swp/fotakel/resource/Eksorixi>'], ['_:1', '<http://dilab77.ionio.gr/swp/fotakel/vocab#AITHOUSA>', '<http://dilab77.ionio.gr/swp/fotakel/resource/pms>'], ['_:1', '<http://dilab77.ionio.gr/swp/fotakel/vocab#EXAMINO>', '\"b\"'], ['_:1', '<http://dilab77.ionio.gr/swp/fotakel/vocab#ORA%20ENARXIS>', '\"03:00:00\"^^<http://www.w3.org/2001/XMLSchema#time>'], ['_:1', '<http://dilab77.ionio.gr/swp/fotakel/vocab#ORA%20LIXIS>', '\"06:00:00\"^^<http://www.w3.org/2001/XMLSchema#time>'], ['_:1', '<http://dilab77.ionio.gr/swp/fotakel/vocab#MERA>', '\"Pempti\"'], ['_:2', '<http://dilab77.ionio.gr/swp/fotakel/vocab#KATHIGITIS>', '<http://dilab77.ionio.gr/swp/fotakel/resource/Pateli>'], ['_:2', '<http://dilab77.ionio.gr/swp/fotakel/vocab#MATHIMA>', '<http://dilab77.ionio.gr/swp/fotakel/resource/epeixirimatikotita>'], ['_:2', '<http://dilab77.ionio.gr/swp/fotakel/vocab#AITHOUSA>', '<http://dilab77.ionio.gr/swp/fotakel/resource/pms>'], ['_:2', '<http://dilab77.ionio.gr/swp/fotakel/vocab#EXAMINO>', '\"b\"'], ['_:2', '<http://dilab77.ionio.gr/swp/fotakel/vocab#ORA%20ENARXIS>', '\"03:00:00\"^^<http://www.w3.org/2001/XMLSchema#time>'], ['_:2', '<http://dilab77.ionio.gr/swp/fotakel/vocab#ORA%20LIXIS>', '\"06:00:00\"^^<http://www.w3.org/2001/XMLSchema#time>'], ['_:2', '<http://dilab77.ionio.gr/swp/fotakel/vocab#MERA>', '\"Tetarti\"'], ['_:3', '<http://dilab77.ionio.gr/swp/fotakel/vocab#KATHIGITIS>', '<http://dilab77.ionio.gr/swp/fotakel/resource/Avlonitis>'], ['_:3', '<http://dilab77.ionio.gr/swp/fotakel/vocab#MATHIMA>', '<http://dilab77.ionio.gr/swp/fotakel/resource/prosomoiosi>'], ['_:3', '<http://dilab77.ionio.gr/swp/fotakel/vocab#AITHOUSA>', '<http://dilab77.ionio.gr/swp/fotakel/resource/pms>'], ['_:3', '<http://dilab77.ionio.gr/swp/fotakel/vocab#EXAMINO>', '\"b\"'], ['_:3', '<http://dilab77.ionio.gr/swp/fotakel/vocab#ORA%20ENARXIS>', '\"06:00:00\"^^<http://www.w3.org/2001/XMLSchema#time>'], ['_:3', '<http://dilab77.ionio.gr/swp/fotakel/vocab#ORA%20LIXIS>', '\"09:00:00\"^^<http://www.w3.org/2001/XMLSchema#time>'], ['_:3', '<http://dilab77.ionio.gr/swp/fotakel/vocab#MERA>', '\"Triti\"'], ['_:4', '<http://dilab77.ionio.gr/swp/fotakel/vocab#KATHIGITIS>', '<http://dilab77.ionio.gr/swp/fotakel/resource/Vlamos>'], ['_:4', '<http://dilab77.ionio.gr/swp/fotakel/vocab#MATHIMA>', '<http://dilab77.ionio.gr/swp/fotakel/resource/pliroforiki%20ekpaideysi>'], ['_:4', '<http://dilab77.ionio.gr/swp/fotakel/vocab#AITHOUSA>', '<http://dilab77.ionio.gr/swp/fotakel/resource/pms>'], ['_:4', '<http://dilab77.ionio.gr/swp/fotakel/vocab#EXAMINO>', '\"b\"'], ['_:4', '<http://dilab77.ionio.gr/swp/fotakel/vocab#ORA%20ENARXIS>', '\"06:00:00\"^^<http://www.w3.org/2001/XMLSchema#time>'], ['_:4', '<http://dilab77.ionio.gr/swp/fotakel/vocab#ORA%20LIXIS>', '\"09:00:00\"^^<http://www.w3.org/2001/XMLSchema#time>'], ['_:4', '<http://dilab77.ionio.gr/swp/fotakel/vocab#MERA>', '\"Pempti\"']]\n"
     ]
    }
   ],
   "source": [
    "newtriada=[]\n",
    "visited = set()\n",
    "for s,p,o in triada:\n",
    "    \n",
    "    \n",
    "    p='<'+p+'>'\n",
    "    if o.startswith('http:'):\n",
    "        o='<'+o+'>'\n",
    "       \n",
    "    if p=='<http://dilab77.ionio.gr/swp/fotakel/vocab#MERA>':\n",
    "        o='\"'+o[2:]+'\"'\n",
    "    if p=='<http://dilab77.ionio.gr/swp/fotakel/vocab#EXAMINO>':\n",
    "        o='\"'+o[-2]+'\"'\n",
    "           \n",
    "    if p in ('<http://dilab77.ionio.gr/swp/fotakel/vocab#ORA%20LIXIS>', '<http://dilab77.ionio.gr/swp/fotakel/vocab#ORA%20ENARXIS>'):\n",
    "        o= '\"0' + o[2:]+':00:00' +'\"^^<http://www.w3.org/2001/XMLSchema#time>'\n",
    "    \n",
    "    newtriada.append([s,p,o])\n",
    "       \n",
    "print(newtriada)\n"
   ]
  },
  {
   "cell_type": "code",
   "execution_count": 28,
   "metadata": {
    "collapsed": false,
    "scrolled": true
   },
   "outputs": [
    {
     "name": "stdout",
     "output_type": "stream",
     "text": [
      "_:0 <http://www.w3.org/1999/02/22-rdf-syntax-ns#type> <http://dilab77.ionio.gr/swp/fotakel/vocab#Lecture>\n",
      "_:1 <http://www.w3.org/1999/02/22-rdf-syntax-ns#type> <http://dilab77.ionio.gr/swp/fotakel/vocab#Lecture>\n",
      "<http://dilab77.ionio.gr/swp/fotakel/resource/Mylonas> <http://www.w3.org/1999/02/22-rdf-syntax-ns#type> <http://dilab77.ionio.gr/swp/fotakel/vocab#Teacher> .\n",
      "<http://dilab77.ionio.gr/swp/fotakel/resource/Eksorixi> <http://www.w3.org/1999/02/22-rdf-syntax-ns#type> <http://dilab77.ionio.gr/swp/fotakel/vocab#Course> .\n",
      "<http://dilab77.ionio.gr/swp/fotakel/resource/pms> <http://www.w3.org/1999/02/22-rdf-syntax-ns#type> <http://dilab77.ionio.gr/swp/fotakel/vocab#Room> .\n",
      "_:2 <http://www.w3.org/1999/02/22-rdf-syntax-ns#type> <http://dilab77.ionio.gr/swp/fotakel/vocab#Lecture>\n",
      "<http://dilab77.ionio.gr/swp/fotakel/resource/Pateli> <http://www.w3.org/1999/02/22-rdf-syntax-ns#type> <http://dilab77.ionio.gr/swp/fotakel/vocab#Teacher> .\n",
      "<http://dilab77.ionio.gr/swp/fotakel/resource/epeixirimatikotita> <http://www.w3.org/1999/02/22-rdf-syntax-ns#type> <http://dilab77.ionio.gr/swp/fotakel/vocab#Course> .\n",
      "_:3 <http://www.w3.org/1999/02/22-rdf-syntax-ns#type> <http://dilab77.ionio.gr/swp/fotakel/vocab#Lecture>\n",
      "<http://dilab77.ionio.gr/swp/fotakel/resource/Avlonitis> <http://www.w3.org/1999/02/22-rdf-syntax-ns#type> <http://dilab77.ionio.gr/swp/fotakel/vocab#Teacher> .\n",
      "<http://dilab77.ionio.gr/swp/fotakel/resource/prosomoiosi> <http://www.w3.org/1999/02/22-rdf-syntax-ns#type> <http://dilab77.ionio.gr/swp/fotakel/vocab#Course> .\n",
      "_:4 <http://www.w3.org/1999/02/22-rdf-syntax-ns#type> <http://dilab77.ionio.gr/swp/fotakel/vocab#Lecture>\n",
      "<http://dilab77.ionio.gr/swp/fotakel/resource/Vlamos> <http://www.w3.org/1999/02/22-rdf-syntax-ns#type> <http://dilab77.ionio.gr/swp/fotakel/vocab#Teacher> .\n",
      "<http://dilab77.ionio.gr/swp/fotakel/resource/pliroforiki%20ekpaideysi> <http://www.w3.org/1999/02/22-rdf-syntax-ns#type> <http://dilab77.ionio.gr/swp/fotakel/vocab#Course> .\n"
     ]
    }
   ],
   "source": [
    "visited = set()\n",
    "with open ('apotelstef.nt','w')as ofp:\n",
    "    \n",
    "\n",
    "    for s,p,o in newtriada:\n",
    "    \n",
    "        d='<http://www.w3.org/1999/02/22-rdf-syntax-ns#type>'\n",
    "        if s not in visited and s.startswith('_:'):\n",
    "            visited.add(s)\n",
    "            print(s,d,'<http://dilab77.ionio.gr/swp/fotakel/vocab#Lecture>')\n",
    "            \n",
    "            ofp.write('{} {} {} . \\n'.format(s,d,'<http://dilab77.ionio.gr/swp/fotakel/vocab#Lecture>'))\n",
    "   \n",
    "            \n",
    "        \n",
    "        if p=='<http://dilab77.ionio.gr/swp/fotakel/vocab#KATHIGITIS>':\n",
    "        \n",
    "            if o not in visited:\n",
    "                visited.add(o)\n",
    "            \n",
    "                print('{} {} {} .'.format(o,d,'<http://dilab77.ionio.gr/swp/fotakel/vocab#Teacher>'))\n",
    "                ofp.write('{} {} {} . \\n'.format(o,d,'<http://dilab77.ionio.gr/swp/fotakel/vocab#Teacher>'))\n",
    "            \n",
    "        if p=='<http://dilab77.ionio.gr/swp/fotakel/vocab#AITHOUSA>':\n",
    "       \n",
    "            if o not in visited:\n",
    "                visited.add(o)\n",
    "            \n",
    "                print('{} {} {} .'.format(o,d,'<http://dilab77.ionio.gr/swp/fotakel/vocab#Room>'))\n",
    "                ofp.write('{} {} {} . \\n'.format(o,d,'<http://dilab77.ionio.gr/swp/fotakel/vocab#Room>'))\n",
    "        if p=='<http://dilab77.ionio.gr/swp/fotakel/vocab#MATHIMA>':\n",
    "        \n",
    "            if o not in visited:\n",
    "                visited.add(o)\n",
    "            \n",
    "                print('{} {} {} .'.format(o,d,'<http://dilab77.ionio.gr/swp/fotakel/vocab#Course>'))\n",
    "                ofp.write('{} {} {} . \\n'.format(o,d,'<http://dilab77.ionio.gr/swp/fotakel/vocab#Course>'))\n",
    "   \n",
    "        \n",
    "    "
   ]
  },
  {
   "cell_type": "code",
   "execution_count": null,
   "metadata": {
    "collapsed": false
   },
   "outputs": [],
   "source": []
  },
  {
   "cell_type": "code",
   "execution_count": null,
   "metadata": {
    "collapsed": false
   },
   "outputs": [],
   "source": []
  },
  {
   "cell_type": "code",
   "execution_count": null,
   "metadata": {
    "collapsed": true
   },
   "outputs": [],
   "source": []
  }
 ],
 "metadata": {
  "kernelspec": {
   "display_name": "Python 3",
   "language": "python",
   "name": "python3"
  },
  "language_info": {
   "codemirror_mode": {
    "name": "ipython",
    "version": 3
   },
   "file_extension": ".py",
   "mimetype": "text/x-python",
   "name": "python",
   "nbconvert_exporter": "python",
   "pygments_lexer": "ipython3",
   "version": "3.4.4"
  }
 },
 "nbformat": 4,
 "nbformat_minor": 0
}
